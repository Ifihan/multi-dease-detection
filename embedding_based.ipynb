{
  "cells": [
    {
      "cell_type": "markdown",
      "metadata": {
        "id": "4UcIJj79qpwG"
      },
      "source": [
        "# Few Shot Sampling of Blood Smear Images"
      ]
    },
    {
      "cell_type": "markdown",
      "metadata": {
        "id": "FC1zPK9NamYN"
      },
      "source": [
        "## Custom Dataloader"
      ]
    },
    {
      "cell_type": "code",
      "execution_count": 1,
      "metadata": {
        "id": "75s1YnBzFJWN"
      },
      "outputs": [],
      "source": [
        "import os\n",
        "import numpy as np\n",
        "import torch\n",
        "from torch.utils.data import Dataset, DataLoader\n",
        "from torchvision import transforms\n",
        "from PIL import Image"
      ]
    },
    {
      "cell_type": "code",
      "execution_count": 2,
      "metadata": {
        "id": "fByqZWp5vcNG"
      },
      "outputs": [],
      "source": [
        "\n",
        "def resize_and_pad(image, target_size=(320, 320), fill=0):\n",
        "    \"\"\"\n",
        "    Resize an image to fit within the target size while preserving the aspect ratio,\n",
        "    then pad the shorter sides with a constant value to reach the target size.\n",
        "\n",
        "    Args:\n",
        "        image (PIL.Image): Input image.\n",
        "        target_size (tuple): Target size (width, height), default (224, 224).\n",
        "        fill (int or tuple): Padding fill value (e.g., 0 for black, 255 for white).\n",
        "\n",
        "    Returns:\n",
        "        PIL.Image: Resized and padded image of size target_size.\n",
        "    \"\"\"\n",
        "    # Get original dimensions\n",
        "    width, height = image.size\n",
        "    target_width, target_height = target_size\n",
        "\n",
        "    # Calculate scaling factor to fit within target size\n",
        "    scale = min(target_width / width, target_height / height)\n",
        "    new_width = int(width * scale)\n",
        "    new_height = int(height * scale)\n",
        "\n",
        "    # Resize image with correct (height, width) order\n",
        "    resized_image = transforms.functional.resize(image, (new_height, new_width))\n",
        "\n",
        "    # Calculate padding to center the image\n",
        "    padding_left = (target_width - new_width) // 2\n",
        "    padding_top = (target_height - new_height) // 2\n",
        "    # Ensure padding adds up exactly to the difference\n",
        "    padding_right = target_width - new_width - padding_left\n",
        "    padding_bottom = target_height - new_height - padding_top\n",
        "\n",
        "    # Apply padding\n",
        "    padded_image = transforms.functional.pad(\n",
        "        resized_image,\n",
        "        padding=(padding_left, padding_top, padding_right, padding_bottom),\n",
        "        fill=fill\n",
        "    )\n",
        "\n",
        "    return padded_image"
      ]
    },
    {
      "cell_type": "code",
      "execution_count": 3,
      "metadata": {
        "id": "osiwpi1mvvjG"
      },
      "outputs": [],
      "source": [
        "# Basic Image transformation\n",
        "def get_base_transforms(target_size=(320, 320), use_grayscale=False):\n",
        "    \"\"\"\n",
        "    Returns a composed set of basic image transformations for preprocessing input images.\n",
        "\n",
        "    Parameters:\n",
        "    - target_size (tuple): The desired output size (height, width) of the image after resizing and padding.\n",
        "    - use_grayscale (bool): If True, converts the image to grayscale with 3 channels before applying other transformations.\n",
        "\n",
        "    Returns:\n",
        "    - torchvision.transforms.Compose: A sequence of transformations including:\n",
        "        - Optional grayscale conversion with 3 output channels,\n",
        "        - Resizing and padding the image to match the target size,\n",
        "        - Conversion to tensor,\n",
        "        - Normalization using ImageNet mean and standard deviation.\n",
        "    \"\"\"\n",
        "    base_transforms = [\n",
        "        transforms.Lambda(lambda img: resize_and_pad(img, target_size=target_size)),\n",
        "        transforms.ToTensor(),\n",
        "        transforms.Normalize(mean=[0.485, 0.456, 0.406], std=[0.229, 0.224, 0.225])\n",
        "    ]\n",
        "\n",
        "    if use_grayscale:\n",
        "        base_transforms.insert(0, transforms.Grayscale(num_output_channels=3))  # Keep 3 channels for compatibility\n",
        "    return transforms.Compose(base_transforms)\n",
        "\n",
        "\n",
        "# Data augmentation transforms\n",
        "def get_augmentation_transforms():\n",
        "    \"\"\"\n",
        "    Returns a composed set of data augmentation transformations to artificially expand the training dataset.\n",
        "\n",
        "    This function applies a series of random transformations to simulate variations in brightness, contrast, orientation,\n",
        "    and color mode, helping the model generalize better.\n",
        "\n",
        "    Returns:\n",
        "    - torchvision.transforms.Compose: A sequence of transformations including:\n",
        "        - Random brightness and contrast adjustment (ColorJitter),\n",
        "        - Random horizontal and vertical flipping,\n",
        "        - Random rotation by up to ±10 degrees,\n",
        "        - Random conversion to grayscale with a 20% probability.\n",
        "    \"\"\"\n",
        "    return transforms.Compose([\n",
        "        transforms.ColorJitter(brightness=0.2, contrast=0.2),  # Simulate lighting/stain variations\n",
        "        transforms.RandomHorizontalFlip(p=0.5),\n",
        "        transforms.RandomVerticalFlip(p=0.5),\n",
        "        transforms.RandomRotation(10),\n",
        "        transforms.RandomGrayscale(p=0.2)  # Optional: Randomly apply grayscale as part of augmentation\n",
        "    ])\n"
      ]
    },
    {
      "cell_type": "code",
      "execution_count": 4,
      "metadata": {
        "id": "YQtpp1OmFV25"
      },
      "outputs": [],
      "source": [
        "class FewShotDataset(Dataset):\n",
        "    def __init__(self, data_dir, split, num_ways=5, num_support=5,\n",
        "                 num_query=10, num_episodes=100, target_size=(320, 320),\n",
        "                 use_grayscale=False,\n",
        "                 augment=False,\n",
        "                 ):\n",
        "        \"\"\"\n",
        "        Args:\n",
        "            data_dir (str): Path to dataset directory\n",
        "            split (str): One of 'train', 'validation', or 'test'\n",
        "            num_ways (int): Number of classes per episode\n",
        "            num_support (int): Number of support samples per class (i.e. number of shots)\n",
        "            num_query (int): Number of query samples per class\n",
        "            num_episodes (int): Number of episodes per epoch\n",
        "            use_grayscale(bool),  Use grayscale or not\n",
        "            augment(bool),        For data augmentation technique\n",
        "        \"\"\"\n",
        "        self.split_dir = os.path.join(data_dir, split)\n",
        "        self.num_ways = num_ways\n",
        "        self.num_support = num_support\n",
        "        self.num_query = num_query\n",
        "        self.num_episodes = num_episodes\n",
        "        base_transform = get_base_transforms(target_size, use_grayscale)\n",
        "        if augment:\n",
        "            augmentation_transform = get_augmentation_transforms()\n",
        "            self.transform = transforms.Compose([augmentation_transform, base_transform])\n",
        "        else:\n",
        "            self.transform = base_transform\n",
        "\n",
        "        # Load class directories and their images\n",
        "        self.classes = [c for c in os.listdir(self.split_dir)\n",
        "                       if os.path.isdir(os.path.join(self.split_dir, c))]\n",
        "        self.class_to_idx = {cls: idx for idx, cls in enumerate(self.classes)}  # Map class names to indices\n",
        "        self.idx_to_class = {idx: cls for cls, idx in self.class_to_idx.items()}  # Map indices to class names\n",
        "        self.class_images = {\n",
        "            c: [os.path.join(self.split_dir, c, img)\n",
        "                for img in os.listdir(os.path.join(self.split_dir, c))]\n",
        "            for c in self.classes\n",
        "        }\n",
        "\n",
        "    def __len__(self):\n",
        "        return self.num_episodes\n",
        "\n",
        "    def __getitem__(self, index):\n",
        "        # Randomly select N classes for this episode\n",
        "        selected_classes = np.random.choice(self.classes, self.num_ways, replace=False)\n",
        "\n",
        "        support_images = []\n",
        "        support_labels = []\n",
        "        query_images = []\n",
        "        query_labels = []\n",
        "\n",
        "        for label_idx, class_name in enumerate(selected_classes):\n",
        "            all_images = self.class_images[class_name]\n",
        "            if len(all_images) < self.num_support + self.num_query:\n",
        "                raise ValueError(\n",
        "                    f\"Class {class_name} has only {len(all_images)} images. \"\n",
        "                    f\"Need at least {self.num_support + self.num_query}.\"\n",
        "                )\n",
        "\n",
        "            # Randomly select support and query images\n",
        "            selected_indices = np.random.choice(\n",
        "                len(all_images),\n",
        "                self.num_support + self.num_query,\n",
        "                replace=False #True#########################################################################\n",
        "            )\n",
        "            support_paths = [all_images[i] for i in selected_indices[:self.num_support]]\n",
        "            query_paths = [all_images[i] for i in selected_indices[self.num_support:]]\n",
        "\n",
        "            # Load and transform support images\n",
        "            for path in support_paths:\n",
        "                img = Image.open(path).convert('RGB')\n",
        "                if self.transform:\n",
        "                    img = self.transform(img)\n",
        "                support_images.append(img)\n",
        "                support_labels.append(label_idx)\n",
        "\n",
        "            # Load and transform query images\n",
        "            for path in query_paths:\n",
        "                img = Image.open(path).convert('RGB')\n",
        "                if self.transform:\n",
        "                    img = self.transform(img)\n",
        "                query_images.append(img)\n",
        "                query_labels.append(label_idx)\n",
        "\n",
        "        # Shuffle the support and query sets\n",
        "        support_indices = np.arange(len(support_images))\n",
        "        query_indices = np.arange(len(query_images))\n",
        "        np.random.shuffle(support_indices)\n",
        "        np.random.shuffle(query_indices)\n",
        "\n",
        "        support_images = [support_images[i] for i in support_indices]\n",
        "        support_labels = [support_labels[i] for i in support_indices]\n",
        "        query_images = [query_images[i] for i in query_indices]\n",
        "        query_labels = [query_labels[i] for i in query_indices]\n",
        "\n",
        "        # Convert lists to tensors\n",
        "        support_set = (\n",
        "            torch.stack(support_images),\n",
        "            torch.tensor(support_labels, dtype=torch.long)\n",
        "        )\n",
        "        query_set = (\n",
        "            torch.stack(query_images),\n",
        "            torch.tensor(query_labels, dtype=torch.long)\n",
        "        )\n",
        "        # Store the selected class names for this episode\n",
        "        selected_classes = [str(cls) for cls in selected_classes]\n",
        "        episode_classes = selected_classes\n",
        "\n",
        "        return support_set, query_set, episode_classes"
      ]
    },
    {
      "cell_type": "code",
      "execution_count": 5,
      "metadata": {
        "id": "paGubE7bFSLp"
      },
      "outputs": [],
      "source": [
        "def get_data_loader(dataset, batch_size=1, shuffle=True):\n",
        "    \"\"\"\n",
        "    Returns DataLoader for the dataset.\n",
        "    Note: Batch size should typically be 1 for few-shot learning,\n",
        "    as each episode is a separate task.\n",
        "    \"\"\"\n",
        "    return DataLoader(\n",
        "        dataset,\n",
        "        batch_size=batch_size,\n",
        "        shuffle=shuffle,\n",
        "        num_workers=2,\n",
        "        pin_memory=True\n",
        "    )"
      ]
    },
    {
      "cell_type": "markdown",
      "metadata": {
        "id": "tJNGAZFtcFtR"
      },
      "source": [
        "## Modelling"
      ]
    },
    {
      "cell_type": "markdown",
      "metadata": {
        "id": "5-XVthB2sSH8"
      },
      "source": [
        "### Embedding Based"
      ]
    },
    {
      "cell_type": "markdown",
      "metadata": {
        "id": "LjC8q7C_-4Fe"
      },
      "source": [
        "#### Mount Drive"
      ]
    },
    {
      "cell_type": "code",
      "execution_count": 6,
      "metadata": {
        "id": "fJwE5uZm-257"
      },
      "outputs": [],
      "source": [
        "# from google.colab import drive\n",
        "# drive.mount('/content/drive')\n",
        "# Adjust data_dir based on your Drive structure\n",
        "# data_dir = '/content/drive/MyDrive/Computer vision with few shot sampling focus group/data_set'\n",
        "# output_dir = '/content/drive/MyDrive/Computer vision with few shot sampling focus group/protonet_results' # For saving models/plots\n",
        "\n",
        "data_dir = \"/home/ifihan/multi-dease-detection/data_set\"\n",
        "output_dir = \"/home/ifihan/multi-dease-detection/results\"  # For saving models/plots"
      ]
    },
    {
      "cell_type": "code",
      "execution_count": 7,
      "metadata": {
        "id": "mKGNQMhysXTT"
      },
      "outputs": [],
      "source": [
        "import torch.nn as nn\n",
        "\n",
        "def euclidean_distance(query_embeddings, prototype_embeddings):\n",
        "    \"\"\"\n",
        "    Calculates the Euclidean distance between query embeddings and prototypes.\n",
        "    Args:\n",
        "        query_embeddings (Tensor): shape (num_query_total, embedding_dim)\n",
        "        prototype_embeddings (Tensor): shape (num_ways, embedding_dim)\n",
        "    Returns:\n",
        "        distances (Tensor): shape (num_query_total, num_ways)\n",
        "    \"\"\"\n",
        "    num_query_total = query_embeddings.size(0)\n",
        "    num_ways = prototype_embeddings.size(0)\n",
        "    # Expand dimensions for broadcasting:\n",
        "    # query: (num_query_total, 1, embedding_dim)\n",
        "    # proto: (1, num_ways, embedding_dim)\n",
        "    distances = (query_embeddings.unsqueeze(1) - prototype_embeddings.unsqueeze(0)).pow(2).sum(dim=2)\n",
        "    # Result shape: (num_query_total, num_ways)\n",
        "    return distances\n",
        "\n",
        "class PrototypicalNetwork(nn.Module):\n",
        "    def __init__(self, encoder):\n",
        "        \"\"\"\n",
        "        Args:\n",
        "            encoder (nn.Module): The feature extractor network.\n",
        "        \"\"\"\n",
        "        super().__init__()\n",
        "        self.encoder = encoder\n",
        "\n",
        "    def calculate_prototypes(self, support_embeddings, support_labels, num_ways):\n",
        "        \"\"\"\n",
        "        Calculates class prototypes from support set embeddings.\n",
        "        Args:\n",
        "            support_embeddings (Tensor): Embeddings of the support set (num_support_total, embedding_dim).\n",
        "            support_labels (Tensor): Labels for the support set (num_support_total).\n",
        "            num_ways (int): Number of classes in the episode.\n",
        "        Returns:\n",
        "            prototypes (Tensor): Class prototypes (num_ways, embedding_dim).\n",
        "        \"\"\"\n",
        "        embedding_dim = support_embeddings.size(-1)\n",
        "        prototypes = torch.zeros(num_ways, embedding_dim, device=support_embeddings.device)\n",
        "        for i in range(num_ways):\n",
        "            class_mask = (support_labels == i)\n",
        "            class_embeddings = support_embeddings[class_mask]\n",
        "            if class_embeddings.shape[0] > 0: # Handle cases where a class might have 0 examples (shouldn't happen with good data)\n",
        "                 prototypes[i] = class_embeddings.mean(dim=0)\n",
        "            else:\n",
        "                 # Optional: Handle this case e.g., with a small random vector or zero vector\n",
        "                 print(f\"Warning: Class {i} had 0 support examples in prototype calculation.\")\n",
        "                 prototypes[i] = torch.zeros(embedding_dim, device=support_embeddings.device)\n",
        "        return prototypes\n",
        "\n",
        "    def forward(self, support_images, support_labels, query_images):\n",
        "        \"\"\"\n",
        "        Processes an episode (support and query sets) to produce logits for query samples.\n",
        "        Args:\n",
        "            support_images (Tensor): Images of the support set (num_support_total, C, H, W).\n",
        "            support_labels (Tensor): Labels for the support set (num_support_total).\n",
        "            query_images (Tensor): Images of the query set (num_query_total, C, H, W).\n",
        "        Returns:\n",
        "            logits (Tensor): Negative distances (logits) for query classification (num_query_total, num_ways).\n",
        "        \"\"\"\n",
        "        num_support_total = support_images.size(0)\n",
        "        num_query_total = query_images.size(0)\n",
        "        num_ways = int(support_labels.max()) + 1 # Infer num_ways from labels\n",
        "\n",
        "        # Concatenate support and query images for efficient encoding\n",
        "        all_images = torch.cat([support_images, query_images], dim=0)\n",
        "        all_embeddings = self.encoder(all_images)\n",
        "\n",
        "        # Split embeddings back into support and query\n",
        "        support_embeddings = all_embeddings[:num_support_total]\n",
        "        query_embeddings = all_embeddings[num_support_total:]\n",
        "\n",
        "        # Calculate prototypes\n",
        "        prototypes = self.calculate_prototypes(support_embeddings, support_labels, num_ways)\n",
        "\n",
        "        # Calculate distances between query embeddings and prototypes\n",
        "        distances = euclidean_distance(query_embeddings, prototypes)\n",
        "\n",
        "        # Return negative distances as logits (closer distance = higher probability)\n",
        "        return -distances\n",
        "\n",
        "# --- Accuracy Helper ---\n",
        "def calculate_accuracy(logits, targets):\n",
        "    \"\"\"Calculates classification accuracy.\"\"\"\n",
        "    predictions = torch.argmax(logits, dim=1)\n",
        "    accuracy = (predictions == targets).float().mean()\n",
        "    return accuracy.item()"
      ]
    },
    {
      "cell_type": "code",
      "execution_count": 8,
      "metadata": {
        "id": "EObESp5LTd78"
      },
      "outputs": [],
      "source": [
        "# --- Training and Evaluation Functions ---\n",
        "\n",
        "from tqdm import tqdm\n",
        "\n",
        "def train_epoch(model, dataloader, optimizer, criterion, device):\n",
        "    \"\"\"Runs a single training epoch.\"\"\"\n",
        "    model.train()\n",
        "    total_loss = 0.0\n",
        "    total_accuracy = 0.0\n",
        "    num_batches = 0\n",
        "\n",
        "    # Use tqdm for progress bar\n",
        "    with tqdm(dataloader, desc=\"Training\", leave=False) as pbar:\n",
        "        for batch in pbar:\n",
        "            # Data loader yields episodes one by one (batch_size=1 typically)\n",
        "            # Squeeze the batch dimension (index 0)\n",
        "            support_set, query_set, _ = batch # Ignore episode_classes for training\n",
        "            support_images, support_labels = support_set\n",
        "            query_images, query_labels = query_set\n",
        "\n",
        "            # Remove the extra batch dimension of 1\n",
        "            support_images = support_images.squeeze(0).to(device)\n",
        "            support_labels = support_labels.squeeze(0).to(device)\n",
        "            query_images = query_images.squeeze(0).to(device)\n",
        "            query_labels = query_labels.squeeze(0).to(device)\n",
        "\n",
        "            optimizer.zero_grad()\n",
        "\n",
        "            # Forward pass\n",
        "            logits = model(support_images, support_labels, query_images)\n",
        "\n",
        "            # Calculate loss\n",
        "            loss = criterion(logits, query_labels)\n",
        "\n",
        "            # Backward pass and optimize\n",
        "            loss.backward()\n",
        "            optimizer.step()\n",
        "\n",
        "            # Calculate accuracy for the episode\n",
        "            accuracy = calculate_accuracy(logits, query_labels)\n",
        "\n",
        "            total_loss += loss.item()\n",
        "            total_accuracy += accuracy\n",
        "            num_batches += 1\n",
        "\n",
        "            # Update progress bar description\n",
        "            pbar.set_postfix(loss=f\"{loss.item():.4f}\", acc=f\"{accuracy:.4f}\")\n",
        "\n",
        "    avg_loss = total_loss / num_batches if num_batches > 0 else 0\n",
        "    avg_accuracy = total_accuracy / num_batches if num_batches > 0 else 0\n",
        "    return avg_loss, avg_accuracy\n",
        "\n",
        "def evaluate(model, dataloader, criterion, device, description=\"Evaluating\"):\n",
        "    \"\"\"Evaluates the model on a dataset.\"\"\"\n",
        "    model.eval()\n",
        "    total_loss = 0.0\n",
        "    total_accuracy = 0.0\n",
        "    num_batches = 0\n",
        "\n",
        "    with torch.no_grad(): # Disable gradient calculations\n",
        "        # Use tqdm for progress bar\n",
        "        with tqdm(dataloader, desc=description, leave=False) as pbar:\n",
        "            for batch in pbar:\n",
        "                support_set, query_set, _ = batch\n",
        "                support_images, support_labels = support_set\n",
        "                query_images, query_labels = query_set\n",
        "\n",
        "                # Remove the extra batch dimension of 1\n",
        "                support_images = support_images.squeeze(0).to(device)\n",
        "                support_labels = support_labels.squeeze(0).to(device)\n",
        "                query_images = query_images.squeeze(0).to(device)\n",
        "                query_labels = query_labels.squeeze(0).to(device)\n",
        "\n",
        "                # Forward pass\n",
        "                logits = model(support_images, support_labels, query_images)\n",
        "\n",
        "                # Calculate loss\n",
        "                loss = criterion(logits, query_labels)\n",
        "\n",
        "                # Calculate accuracy\n",
        "                accuracy = calculate_accuracy(logits, query_labels)\n",
        "\n",
        "                total_loss += loss.item()\n",
        "                total_accuracy += accuracy\n",
        "                num_batches += 1\n",
        "\n",
        "                # Update progress bar description\n",
        "                pbar.set_postfix(loss=f\"{loss.item():.4f}\", acc=f\"{accuracy:.4f}\")\n",
        "\n",
        "\n",
        "    avg_loss = total_loss / num_batches if num_batches > 0 else 0\n",
        "    avg_accuracy = total_accuracy / num_batches if num_batches > 0 else 0\n",
        "    return avg_loss, avg_accuracy"
      ]
    },
    {
      "cell_type": "code",
      "execution_count": 9,
      "metadata": {},
      "outputs": [],
      "source": [
        "def evaluate_with_std(model, dataloader, criterion, device, description=\"Evaluating\"):\n",
        "    \"\"\"Evaluates the model on a dataset.\"\"\"\n",
        "    model.eval()\n",
        "    total_loss = 0.0\n",
        "    episode_accuracies = []  # List to store accuracy for each episode\n",
        "    num_batches = 0\n",
        "\n",
        "    with torch.no_grad():  # Disable gradient calculations\n",
        "        # Use tqdm for progress bar\n",
        "        with tqdm(dataloader, desc=description, leave=False) as pbar:\n",
        "            for batch in pbar:\n",
        "                support_set, query_set, _ = batch\n",
        "                support_images, support_labels = support_set\n",
        "                query_images, query_labels = query_set\n",
        "\n",
        "                # Remove the extra batch dimension of 1\n",
        "                support_images = support_images.squeeze(0).to(device)\n",
        "                support_labels = support_labels.squeeze(0).to(device)\n",
        "                query_images = query_images.squeeze(0).to(device)\n",
        "                query_labels = query_labels.squeeze(0).to(device)\n",
        "\n",
        "                # Forward pass\n",
        "                logits = model(support_images, support_labels, query_images)\n",
        "\n",
        "                # Calculate loss\n",
        "                loss = criterion(logits, query_labels)\n",
        "\n",
        "                # Calculate accuracy\n",
        "                accuracy = calculate_accuracy(logits, query_labels)\n",
        "\n",
        "                total_loss += loss.item()\n",
        "                episode_accuracies.append(accuracy)  # Store episode accuracy\n",
        "                num_batches += 1\n",
        "\n",
        "                # Update progress bar description\n",
        "                pbar.set_postfix(loss=f\"{loss.item():.4f}\", acc=f\"{accuracy:.4f}\")\n",
        "\n",
        "    avg_loss = total_loss / num_batches if num_batches > 0 else 0\n",
        "    avg_accuracy = np.mean(episode_accuracies) if episode_accuracies else 0\n",
        "    variance_accuracy = np.var(episode_accuracies) if episode_accuracies else 0\n",
        "    std_accuracy = np.std(episode_accuracies) if episode_accuracies else 0\n",
        "\n",
        "    return avg_loss, avg_accuracy, variance_accuracy, std_accuracy"
      ]
    },
    {
      "cell_type": "code",
      "execution_count": 10,
      "metadata": {
        "id": "MZCf60zETu8L"
      },
      "outputs": [
        {
          "name": "stdout",
          "output_type": "stream",
          "text": [
            "Using device: cuda\n"
          ]
        }
      ],
      "source": [
        "import os # Make sure os is imported if not already at the top of your script\n",
        "import torchvision.models as models\n",
        "import torch.optim as optim\n",
        "from matplotlib import pyplot as plt\n",
        "\n",
        "os.makedirs(output_dir, exist_ok=True)\n",
        "best_model_path = os.path.join(output_dir, 'best_protonet_model.pth')\n",
        "\n",
        "device = torch.device(\"cuda\" if torch.cuda.is_available() else \"cpu\")\n",
        "print(f\"Using device: {device}\")\n",
        "\n",
        "# Few-Shot Learning Parameters\n",
        "TRAIN_NUM_WAYS = 4          # N-way for training\n",
        "TRAIN_NUM_SUPPORT = 5       # K-shot for training support set\n",
        "TRAIN_NUM_QUERY = 15        # Number of query examples per class during training\n",
        "TRAIN_EPISODES = 500        # Number of training episodes per epoch\n",
        "\n",
        "VAL_NUM_WAYS = 4            # N-way for validation (used for primary validation metric)\n",
        "VAL_NUM_SUPPORT = 5         # K-shot for primary validation (used for early stopping and best model)\n",
        "VAL_NUM_QUERY = 15          # Query examples for validation\n",
        "VAL_EPISODES = 300          # Number of validation episodes (for primary and multi-shot eval)\n",
        "\n",
        "TEST_NUM_WAYS = 4           # N-way for testing\n",
        "TEST_NUM_SHOTS = [1, 5, 10] # K-shot values to evaluate on test set\n",
        "TEST_NUM_QUERY = 15         # Query examples for testing\n",
        "TEST_EPISODES = 300         # Number of test episodes\n",
        "\n",
        "VAL_EVAL_SHOTS = [1, 5, 10] # K-shot values for detailed validation plotting during training\n",
        "\n",
        "# Model & Training Parameters\n",
        "IMAGE_SIZE = (320, 320) \n",
        "USE_GRAYSCALE = False\n",
        "LEARNING_RATE = 1e-4\n",
        "NUM_EPOCHS = 100\n",
        "PATIENCE = 10\n",
        "\n"
      ]
    },
    {
      "cell_type": "code",
      "execution_count": 11,
      "metadata": {},
      "outputs": [],
      "source": [
        "# --- Encoder Setup ---\n",
        "encoder = models.resnet50(weights=models.ResNet50_Weights.IMAGENET1K_V1)\n",
        "encoder.fc = nn.Identity()\n",
        "\n",
        "# --- Model, Optimizer, Criterion ---\n",
        "model = PrototypicalNetwork(encoder).to(device)\n",
        "optimizer = optim.Adam(model.parameters(), lr=LEARNING_RATE)\n",
        "criterion = nn.CrossEntropyLoss()\n",
        "\n"
      ]
    },
    {
      "cell_type": "code",
      "execution_count": 12,
      "metadata": {},
      "outputs": [
        {
          "name": "stdout",
          "output_type": "stream",
          "text": [
            "Setting up datasets...\n",
            "Train dataset: 28 classes found.\n",
            "Primary Validation dataset (5-shot): 4 classes found.\n"
          ]
        }
      ],
      "source": [
        "# --- Datasets and DataLoaders ---\n",
        "print(\"Setting up datasets...\")\n",
        "# Training Set\n",
        "train_dataset = FewShotDataset(\n",
        "    data_dir=data_dir,\n",
        "    split='train',\n",
        "    num_ways=TRAIN_NUM_WAYS,\n",
        "    num_support=TRAIN_NUM_SUPPORT,\n",
        "    num_query=TRAIN_NUM_QUERY,\n",
        "    num_episodes=TRAIN_EPISODES,\n",
        "    target_size=IMAGE_SIZE,\n",
        "    use_grayscale=USE_GRAYSCALE,\n",
        "    augment=True\n",
        ")\n",
        "train_loader = get_data_loader(train_dataset, shuffle=True)\n",
        "print(f\"Train dataset: {len(train_dataset.classes)} classes found.\")\n",
        "\n",
        "# Primary Validation Set (for early stopping and best model selection)\n",
        "# Uses VAL_NUM_SUPPORT (e.g., 5-shot)\n",
        "primary_val_dataset = FewShotDataset(\n",
        "    data_dir=data_dir,\n",
        "    split='test', # As per your comment, validation uses the 'test' split path\n",
        "    num_ways=VAL_NUM_WAYS,\n",
        "    num_support=VAL_NUM_SUPPORT, # Fixed shot for primary validation\n",
        "    num_query=VAL_NUM_QUERY,\n",
        "    num_episodes=VAL_EPISODES,\n",
        "    target_size=IMAGE_SIZE,\n",
        "    use_grayscale=USE_GRAYSCALE,\n",
        "    augment=True\n",
        ")\n",
        "primary_val_loader = get_data_loader(primary_val_dataset, shuffle=False)\n",
        "print(f\"Primary Validation dataset ({VAL_NUM_SUPPORT}-shot): {len(primary_val_dataset.classes)} classes found.\")\n",
        "\n"
      ]
    },
    {
      "cell_type": "code",
      "execution_count": 13,
      "metadata": {},
      "outputs": [
        {
          "name": "stdout",
          "output_type": "stream",
          "text": [
            "\n",
            "--- Starting Training ---\n",
            "\n",
            "Epoch 1/100\n"
          ]
        },
        {
          "name": "stderr",
          "output_type": "stream",
          "text": [
            "Training:   0%|          | 0/500 [00:00<?, ?it/s]"
          ]
        },
        {
          "name": "stderr",
          "output_type": "stream",
          "text": [
            "                                                                                    \r"
          ]
        },
        {
          "name": "stdout",
          "output_type": "stream",
          "text": [
            "Train Loss: 1.1015, Train Accuracy: 0.7853\n"
          ]
        },
        {
          "name": "stderr",
          "output_type": "stream",
          "text": [
            "                                                                                               \r"
          ]
        },
        {
          "name": "stdout",
          "output_type": "stream",
          "text": [
            "Primary Validation Loss (5-shot): 0.8984, Primary Validation Accuracy (5-shot): 0.7228\n",
            "Performing multi-shot validation evaluation...\n"
          ]
        },
        {
          "name": "stderr",
          "output_type": "stream",
          "text": [
            "                                                                                                \r"
          ]
        },
        {
          "name": "stdout",
          "output_type": "stream",
          "text": [
            "  Validation (4-way 1-shot) - Loss: 6.4935, Accuracy: 0.5026\n"
          ]
        },
        {
          "name": "stderr",
          "output_type": "stream",
          "text": [
            "                                                                                               \r"
          ]
        },
        {
          "name": "stdout",
          "output_type": "stream",
          "text": [
            "  Validation (4-way 5-shot) - Loss: 1.2729, Accuracy: 0.7012\n"
          ]
        },
        {
          "name": "stderr",
          "output_type": "stream",
          "text": [
            "                                                                                                \r"
          ]
        },
        {
          "name": "stdout",
          "output_type": "stream",
          "text": [
            "  Validation (4-way 10-shot) - Loss: 0.9023, Accuracy: 0.7564\n",
            "Primary Validation accuracy (5-shot) improved (0.0000 -> 0.7228). Saving model...\n",
            "\n",
            "Epoch 2/100\n"
          ]
        },
        {
          "name": "stderr",
          "output_type": "stream",
          "text": [
            "                                                                                    \r"
          ]
        },
        {
          "name": "stdout",
          "output_type": "stream",
          "text": [
            "Train Loss: 0.1340, Train Accuracy: 0.9527\n"
          ]
        },
        {
          "name": "stderr",
          "output_type": "stream",
          "text": [
            "                                                                                               \r"
          ]
        },
        {
          "name": "stdout",
          "output_type": "stream",
          "text": [
            "Primary Validation Loss (5-shot): 0.8359, Primary Validation Accuracy (5-shot): 0.7518\n",
            "Performing multi-shot validation evaluation...\n"
          ]
        },
        {
          "name": "stderr",
          "output_type": "stream",
          "text": [
            "                                                                                                \r"
          ]
        },
        {
          "name": "stdout",
          "output_type": "stream",
          "text": [
            "  Validation (4-way 1-shot) - Loss: 7.1967, Accuracy: 0.5106\n"
          ]
        },
        {
          "name": "stderr",
          "output_type": "stream",
          "text": [
            "                                                                                               \r"
          ]
        },
        {
          "name": "stdout",
          "output_type": "stream",
          "text": [
            "  Validation (4-way 5-shot) - Loss: 1.4703, Accuracy: 0.7072\n"
          ]
        },
        {
          "name": "stderr",
          "output_type": "stream",
          "text": [
            "                                                                                                \r"
          ]
        },
        {
          "name": "stdout",
          "output_type": "stream",
          "text": [
            "  Validation (4-way 10-shot) - Loss: 0.9857, Accuracy: 0.7686\n",
            "Primary Validation accuracy (5-shot) improved (0.7228 -> 0.7518). Saving model...\n",
            "\n",
            "Epoch 3/100\n"
          ]
        },
        {
          "name": "stderr",
          "output_type": "stream",
          "text": [
            "                                                                                    \r"
          ]
        },
        {
          "name": "stdout",
          "output_type": "stream",
          "text": [
            "Train Loss: 0.0798, Train Accuracy: 0.9723\n"
          ]
        },
        {
          "name": "stderr",
          "output_type": "stream",
          "text": [
            "                                                                                               \r"
          ]
        },
        {
          "name": "stdout",
          "output_type": "stream",
          "text": [
            "Primary Validation Loss (5-shot): 0.8049, Primary Validation Accuracy (5-shot): 0.7774\n",
            "Performing multi-shot validation evaluation...\n"
          ]
        },
        {
          "name": "stderr",
          "output_type": "stream",
          "text": [
            "                                                                                                \r"
          ]
        },
        {
          "name": "stdout",
          "output_type": "stream",
          "text": [
            "  Validation (4-way 1-shot) - Loss: 5.2322, Accuracy: 0.5384\n"
          ]
        },
        {
          "name": "stderr",
          "output_type": "stream",
          "text": [
            "                                                                                               \r"
          ]
        },
        {
          "name": "stdout",
          "output_type": "stream",
          "text": [
            "  Validation (4-way 5-shot) - Loss: 1.0583, Accuracy: 0.7671\n"
          ]
        },
        {
          "name": "stderr",
          "output_type": "stream",
          "text": [
            "                                                                                                \r"
          ]
        },
        {
          "name": "stdout",
          "output_type": "stream",
          "text": [
            "  Validation (4-way 10-shot) - Loss: 0.7688, Accuracy: 0.8119\n",
            "Primary Validation accuracy (5-shot) improved (0.7518 -> 0.7774). Saving model...\n",
            "\n",
            "Epoch 4/100\n"
          ]
        },
        {
          "name": "stderr",
          "output_type": "stream",
          "text": [
            "                                                                                    \r"
          ]
        },
        {
          "name": "stdout",
          "output_type": "stream",
          "text": [
            "Train Loss: 0.0542, Train Accuracy: 0.9811\n"
          ]
        },
        {
          "name": "stderr",
          "output_type": "stream",
          "text": [
            "                                                                                               \r"
          ]
        },
        {
          "name": "stdout",
          "output_type": "stream",
          "text": [
            "Primary Validation Loss (5-shot): 0.9201, Primary Validation Accuracy (5-shot): 0.7457\n",
            "Performing multi-shot validation evaluation...\n"
          ]
        },
        {
          "name": "stderr",
          "output_type": "stream",
          "text": [
            "                                                                                                \r"
          ]
        },
        {
          "name": "stdout",
          "output_type": "stream",
          "text": [
            "  Validation (4-way 1-shot) - Loss: 5.4746, Accuracy: 0.5331\n"
          ]
        },
        {
          "name": "stderr",
          "output_type": "stream",
          "text": [
            "                                                                                               \r"
          ]
        },
        {
          "name": "stdout",
          "output_type": "stream",
          "text": [
            "  Validation (4-way 5-shot) - Loss: 1.1972, Accuracy: 0.7413\n"
          ]
        },
        {
          "name": "stderr",
          "output_type": "stream",
          "text": [
            "                                                                                                \r"
          ]
        },
        {
          "name": "stdout",
          "output_type": "stream",
          "text": [
            "  Validation (4-way 10-shot) - Loss: 0.7895, Accuracy: 0.7891\n",
            "No improvement in primary validation accuracy for 1 epochs.\n",
            "\n",
            "Epoch 5/100\n"
          ]
        },
        {
          "name": "stderr",
          "output_type": "stream",
          "text": [
            "                                                                                    \r"
          ]
        },
        {
          "name": "stdout",
          "output_type": "stream",
          "text": [
            "Train Loss: 0.0595, Train Accuracy: 0.9804\n"
          ]
        },
        {
          "name": "stderr",
          "output_type": "stream",
          "text": [
            "                                                                                               \r"
          ]
        },
        {
          "name": "stdout",
          "output_type": "stream",
          "text": [
            "Primary Validation Loss (5-shot): 0.7564, Primary Validation Accuracy (5-shot): 0.7632\n",
            "Performing multi-shot validation evaluation...\n"
          ]
        },
        {
          "name": "stderr",
          "output_type": "stream",
          "text": [
            "                                                                                                \r"
          ]
        },
        {
          "name": "stdout",
          "output_type": "stream",
          "text": [
            "  Validation (4-way 1-shot) - Loss: 3.5290, Accuracy: 0.5311\n"
          ]
        },
        {
          "name": "stderr",
          "output_type": "stream",
          "text": [
            "                                                                                               \r"
          ]
        },
        {
          "name": "stdout",
          "output_type": "stream",
          "text": [
            "  Validation (4-way 5-shot) - Loss: 0.9092, Accuracy: 0.7586\n"
          ]
        },
        {
          "name": "stderr",
          "output_type": "stream",
          "text": [
            "                                                                                                \r"
          ]
        },
        {
          "name": "stdout",
          "output_type": "stream",
          "text": [
            "  Validation (4-way 10-shot) - Loss: 0.7073, Accuracy: 0.8001\n",
            "No improvement in primary validation accuracy for 2 epochs.\n",
            "\n",
            "Epoch 6/100\n"
          ]
        },
        {
          "name": "stderr",
          "output_type": "stream",
          "text": [
            "                                                                                    \r"
          ]
        },
        {
          "name": "stdout",
          "output_type": "stream",
          "text": [
            "Train Loss: 0.0384, Train Accuracy: 0.9876\n"
          ]
        },
        {
          "name": "stderr",
          "output_type": "stream",
          "text": [
            "                                                                                               \r"
          ]
        },
        {
          "name": "stdout",
          "output_type": "stream",
          "text": [
            "Primary Validation Loss (5-shot): 0.7231, Primary Validation Accuracy (5-shot): 0.7874\n",
            "Performing multi-shot validation evaluation...\n"
          ]
        },
        {
          "name": "stderr",
          "output_type": "stream",
          "text": [
            "                                                                                                \r"
          ]
        },
        {
          "name": "stdout",
          "output_type": "stream",
          "text": [
            "  Validation (4-way 1-shot) - Loss: 4.3243, Accuracy: 0.5734\n"
          ]
        },
        {
          "name": "stderr",
          "output_type": "stream",
          "text": [
            "                                                                                               \r"
          ]
        },
        {
          "name": "stdout",
          "output_type": "stream",
          "text": [
            "  Validation (4-way 5-shot) - Loss: 0.8087, Accuracy: 0.7937\n"
          ]
        },
        {
          "name": "stderr",
          "output_type": "stream",
          "text": [
            "                                                                                                \r"
          ]
        },
        {
          "name": "stdout",
          "output_type": "stream",
          "text": [
            "  Validation (4-way 10-shot) - Loss: 0.5666, Accuracy: 0.8269\n",
            "Primary Validation accuracy (5-shot) improved (0.7774 -> 0.7874). Saving model...\n",
            "\n",
            "Epoch 7/100\n"
          ]
        },
        {
          "name": "stderr",
          "output_type": "stream",
          "text": [
            "                                                                                    \r"
          ]
        },
        {
          "name": "stdout",
          "output_type": "stream",
          "text": [
            "Train Loss: 0.0421, Train Accuracy: 0.9854\n"
          ]
        },
        {
          "name": "stderr",
          "output_type": "stream",
          "text": [
            "                                                                                               \r"
          ]
        },
        {
          "name": "stdout",
          "output_type": "stream",
          "text": [
            "Primary Validation Loss (5-shot): 1.0385, Primary Validation Accuracy (5-shot): 0.7686\n",
            "Performing multi-shot validation evaluation...\n"
          ]
        },
        {
          "name": "stderr",
          "output_type": "stream",
          "text": [
            "                                                                                                \r"
          ]
        },
        {
          "name": "stdout",
          "output_type": "stream",
          "text": [
            "  Validation (4-way 1-shot) - Loss: 5.1044, Accuracy: 0.5336\n"
          ]
        },
        {
          "name": "stderr",
          "output_type": "stream",
          "text": [
            "                                                                                               \r"
          ]
        },
        {
          "name": "stdout",
          "output_type": "stream",
          "text": [
            "  Validation (4-way 5-shot) - Loss: 1.3393, Accuracy: 0.7516\n"
          ]
        },
        {
          "name": "stderr",
          "output_type": "stream",
          "text": [
            "                                                                                                \r"
          ]
        },
        {
          "name": "stdout",
          "output_type": "stream",
          "text": [
            "  Validation (4-way 10-shot) - Loss: 1.0266, Accuracy: 0.7878\n",
            "No improvement in primary validation accuracy for 1 epochs.\n",
            "\n",
            "Epoch 8/100\n"
          ]
        },
        {
          "name": "stderr",
          "output_type": "stream",
          "text": [
            "                                                                                    \r"
          ]
        },
        {
          "name": "stdout",
          "output_type": "stream",
          "text": [
            "Train Loss: 0.0357, Train Accuracy: 0.9878\n"
          ]
        },
        {
          "name": "stderr",
          "output_type": "stream",
          "text": [
            "                                                                                               \r"
          ]
        },
        {
          "name": "stdout",
          "output_type": "stream",
          "text": [
            "Primary Validation Loss (5-shot): 1.0246, Primary Validation Accuracy (5-shot): 0.7262\n",
            "Performing multi-shot validation evaluation...\n"
          ]
        },
        {
          "name": "stderr",
          "output_type": "stream",
          "text": [
            "                                                                                                \r"
          ]
        },
        {
          "name": "stdout",
          "output_type": "stream",
          "text": [
            "  Validation (4-way 1-shot) - Loss: 5.0167, Accuracy: 0.4996\n"
          ]
        },
        {
          "name": "stderr",
          "output_type": "stream",
          "text": [
            "                                                                                               \r"
          ]
        },
        {
          "name": "stdout",
          "output_type": "stream",
          "text": [
            "  Validation (4-way 5-shot) - Loss: 1.2663, Accuracy: 0.7128\n"
          ]
        },
        {
          "name": "stderr",
          "output_type": "stream",
          "text": [
            "                                                                                                \r"
          ]
        },
        {
          "name": "stdout",
          "output_type": "stream",
          "text": [
            "  Validation (4-way 10-shot) - Loss: 0.9481, Accuracy: 0.7570\n",
            "No improvement in primary validation accuracy for 2 epochs.\n",
            "\n",
            "Epoch 9/100\n"
          ]
        },
        {
          "name": "stderr",
          "output_type": "stream",
          "text": [
            "                                                                                    \r"
          ]
        },
        {
          "name": "stdout",
          "output_type": "stream",
          "text": [
            "Train Loss: 0.0510, Train Accuracy: 0.9830\n"
          ]
        },
        {
          "name": "stderr",
          "output_type": "stream",
          "text": [
            "                                                                                               \r"
          ]
        },
        {
          "name": "stdout",
          "output_type": "stream",
          "text": [
            "Primary Validation Loss (5-shot): 0.8931, Primary Validation Accuracy (5-shot): 0.7709\n",
            "Performing multi-shot validation evaluation...\n"
          ]
        },
        {
          "name": "stderr",
          "output_type": "stream",
          "text": [
            "                                                                                                \r"
          ]
        },
        {
          "name": "stdout",
          "output_type": "stream",
          "text": [
            "  Validation (4-way 1-shot) - Loss: 3.8990, Accuracy: 0.5794\n"
          ]
        },
        {
          "name": "stderr",
          "output_type": "stream",
          "text": [
            "                                                                                               \r"
          ]
        },
        {
          "name": "stdout",
          "output_type": "stream",
          "text": [
            "  Validation (4-way 5-shot) - Loss: 1.0421, Accuracy: 0.7688\n"
          ]
        },
        {
          "name": "stderr",
          "output_type": "stream",
          "text": [
            "                                                                                                \r"
          ]
        },
        {
          "name": "stdout",
          "output_type": "stream",
          "text": [
            "  Validation (4-way 10-shot) - Loss: 0.8331, Accuracy: 0.7906\n",
            "No improvement in primary validation accuracy for 3 epochs.\n",
            "\n",
            "Epoch 10/100\n"
          ]
        },
        {
          "name": "stderr",
          "output_type": "stream",
          "text": [
            "                                                                                    \r"
          ]
        },
        {
          "name": "stdout",
          "output_type": "stream",
          "text": [
            "Train Loss: 0.0308, Train Accuracy: 0.9904\n"
          ]
        },
        {
          "name": "stderr",
          "output_type": "stream",
          "text": [
            "                                                                                               \r"
          ]
        },
        {
          "name": "stdout",
          "output_type": "stream",
          "text": [
            "Primary Validation Loss (5-shot): 0.8757, Primary Validation Accuracy (5-shot): 0.7507\n",
            "Performing multi-shot validation evaluation...\n"
          ]
        },
        {
          "name": "stderr",
          "output_type": "stream",
          "text": [
            "                                                                                                \r"
          ]
        },
        {
          "name": "stdout",
          "output_type": "stream",
          "text": [
            "  Validation (4-way 1-shot) - Loss: 4.5283, Accuracy: 0.5112\n"
          ]
        },
        {
          "name": "stderr",
          "output_type": "stream",
          "text": [
            "                                                                                               \r"
          ]
        },
        {
          "name": "stdout",
          "output_type": "stream",
          "text": [
            "  Validation (4-way 5-shot) - Loss: 1.0639, Accuracy: 0.7451\n"
          ]
        },
        {
          "name": "stderr",
          "output_type": "stream",
          "text": [
            "                                                                                                \r"
          ]
        },
        {
          "name": "stdout",
          "output_type": "stream",
          "text": [
            "  Validation (4-way 10-shot) - Loss: 0.7787, Accuracy: 0.7864\n",
            "No improvement in primary validation accuracy for 4 epochs.\n",
            "\n",
            "Epoch 11/100\n"
          ]
        },
        {
          "name": "stderr",
          "output_type": "stream",
          "text": [
            "                                                                                    \r"
          ]
        },
        {
          "name": "stdout",
          "output_type": "stream",
          "text": [
            "Train Loss: 0.0325, Train Accuracy: 0.9896\n"
          ]
        },
        {
          "name": "stderr",
          "output_type": "stream",
          "text": [
            "                                                                                               \r"
          ]
        },
        {
          "name": "stdout",
          "output_type": "stream",
          "text": [
            "Primary Validation Loss (5-shot): 1.1563, Primary Validation Accuracy (5-shot): 0.7614\n",
            "Performing multi-shot validation evaluation...\n"
          ]
        },
        {
          "name": "stderr",
          "output_type": "stream",
          "text": [
            "                                                                                                \r"
          ]
        },
        {
          "name": "stdout",
          "output_type": "stream",
          "text": [
            "  Validation (4-way 1-shot) - Loss: 4.7465, Accuracy: 0.5386\n"
          ]
        },
        {
          "name": "stderr",
          "output_type": "stream",
          "text": [
            "                                                                                               \r"
          ]
        },
        {
          "name": "stdout",
          "output_type": "stream",
          "text": [
            "  Validation (4-way 5-shot) - Loss: 1.2580, Accuracy: 0.7524\n"
          ]
        },
        {
          "name": "stderr",
          "output_type": "stream",
          "text": [
            "                                                                                                \r"
          ]
        },
        {
          "name": "stdout",
          "output_type": "stream",
          "text": [
            "  Validation (4-way 10-shot) - Loss: 1.0076, Accuracy: 0.7800\n",
            "No improvement in primary validation accuracy for 5 epochs.\n",
            "\n",
            "Epoch 12/100\n"
          ]
        },
        {
          "name": "stderr",
          "output_type": "stream",
          "text": [
            "                                                                                    \r"
          ]
        },
        {
          "name": "stdout",
          "output_type": "stream",
          "text": [
            "Train Loss: 0.0318, Train Accuracy: 0.9895\n"
          ]
        },
        {
          "name": "stderr",
          "output_type": "stream",
          "text": [
            "                                                                                               \r"
          ]
        },
        {
          "name": "stdout",
          "output_type": "stream",
          "text": [
            "Primary Validation Loss (5-shot): 0.9114, Primary Validation Accuracy (5-shot): 0.7694\n",
            "Performing multi-shot validation evaluation...\n"
          ]
        },
        {
          "name": "stderr",
          "output_type": "stream",
          "text": [
            "                                                                                                \r"
          ]
        },
        {
          "name": "stdout",
          "output_type": "stream",
          "text": [
            "  Validation (4-way 1-shot) - Loss: 4.4898, Accuracy: 0.5287\n"
          ]
        },
        {
          "name": "stderr",
          "output_type": "stream",
          "text": [
            "                                                                                               \r"
          ]
        },
        {
          "name": "stdout",
          "output_type": "stream",
          "text": [
            "  Validation (4-way 5-shot) - Loss: 1.1743, Accuracy: 0.7394\n"
          ]
        },
        {
          "name": "stderr",
          "output_type": "stream",
          "text": [
            "                                                                                                \r"
          ]
        },
        {
          "name": "stdout",
          "output_type": "stream",
          "text": [
            "  Validation (4-way 10-shot) - Loss: 0.8850, Accuracy: 0.7753\n",
            "No improvement in primary validation accuracy for 6 epochs.\n",
            "\n",
            "Epoch 13/100\n"
          ]
        },
        {
          "name": "stderr",
          "output_type": "stream",
          "text": [
            "                                                                                    \r"
          ]
        },
        {
          "name": "stdout",
          "output_type": "stream",
          "text": [
            "Train Loss: 0.0322, Train Accuracy: 0.9895\n"
          ]
        },
        {
          "name": "stderr",
          "output_type": "stream",
          "text": [
            "                                                                                               \r"
          ]
        },
        {
          "name": "stdout",
          "output_type": "stream",
          "text": [
            "Primary Validation Loss (5-shot): 1.1023, Primary Validation Accuracy (5-shot): 0.7428\n",
            "Performing multi-shot validation evaluation...\n"
          ]
        },
        {
          "name": "stderr",
          "output_type": "stream",
          "text": [
            "                                                                                                \r"
          ]
        },
        {
          "name": "stdout",
          "output_type": "stream",
          "text": [
            "  Validation (4-way 1-shot) - Loss: 4.8893, Accuracy: 0.5105\n"
          ]
        },
        {
          "name": "stderr",
          "output_type": "stream",
          "text": [
            "                                                                                               \r"
          ]
        },
        {
          "name": "stdout",
          "output_type": "stream",
          "text": [
            "  Validation (4-way 5-shot) - Loss: 1.3141, Accuracy: 0.7179\n"
          ]
        },
        {
          "name": "stderr",
          "output_type": "stream",
          "text": [
            "                                                                                                \r"
          ]
        },
        {
          "name": "stdout",
          "output_type": "stream",
          "text": [
            "  Validation (4-way 10-shot) - Loss: 1.0224, Accuracy: 0.7549\n",
            "No improvement in primary validation accuracy for 7 epochs.\n",
            "\n",
            "Epoch 14/100\n"
          ]
        },
        {
          "name": "stderr",
          "output_type": "stream",
          "text": [
            "                                                                                    \r"
          ]
        },
        {
          "name": "stdout",
          "output_type": "stream",
          "text": [
            "Train Loss: 0.0349, Train Accuracy: 0.9889\n"
          ]
        },
        {
          "name": "stderr",
          "output_type": "stream",
          "text": [
            "                                                                                               \r"
          ]
        },
        {
          "name": "stdout",
          "output_type": "stream",
          "text": [
            "Primary Validation Loss (5-shot): 0.9807, Primary Validation Accuracy (5-shot): 0.6956\n",
            "Performing multi-shot validation evaluation...\n"
          ]
        },
        {
          "name": "stderr",
          "output_type": "stream",
          "text": [
            "                                                                                                \r"
          ]
        },
        {
          "name": "stdout",
          "output_type": "stream",
          "text": [
            "  Validation (4-way 1-shot) - Loss: 3.8103, Accuracy: 0.4877\n"
          ]
        },
        {
          "name": "stderr",
          "output_type": "stream",
          "text": [
            "                                                                                               \r"
          ]
        },
        {
          "name": "stdout",
          "output_type": "stream",
          "text": [
            "  Validation (4-way 5-shot) - Loss: 0.9878, Accuracy: 0.7044\n"
          ]
        },
        {
          "name": "stderr",
          "output_type": "stream",
          "text": [
            "                                                                                                \r"
          ]
        },
        {
          "name": "stdout",
          "output_type": "stream",
          "text": [
            "  Validation (4-way 10-shot) - Loss: 0.6878, Accuracy: 0.7637\n",
            "No improvement in primary validation accuracy for 8 epochs.\n",
            "\n",
            "Epoch 15/100\n"
          ]
        },
        {
          "name": "stderr",
          "output_type": "stream",
          "text": [
            "                                                                                    \r"
          ]
        },
        {
          "name": "stdout",
          "output_type": "stream",
          "text": [
            "Train Loss: 0.0340, Train Accuracy: 0.9892\n"
          ]
        },
        {
          "name": "stderr",
          "output_type": "stream",
          "text": [
            "                                                                                               \r"
          ]
        },
        {
          "name": "stdout",
          "output_type": "stream",
          "text": [
            "Primary Validation Loss (5-shot): 1.1863, Primary Validation Accuracy (5-shot): 0.7184\n",
            "Performing multi-shot validation evaluation...\n"
          ]
        },
        {
          "name": "stderr",
          "output_type": "stream",
          "text": [
            "                                                                                                \r"
          ]
        },
        {
          "name": "stdout",
          "output_type": "stream",
          "text": [
            "  Validation (4-way 1-shot) - Loss: 4.6623, Accuracy: 0.5158\n"
          ]
        },
        {
          "name": "stderr",
          "output_type": "stream",
          "text": [
            "                                                                                               \r"
          ]
        },
        {
          "name": "stdout",
          "output_type": "stream",
          "text": [
            "  Validation (4-way 5-shot) - Loss: 1.4455, Accuracy: 0.7014\n"
          ]
        },
        {
          "name": "stderr",
          "output_type": "stream",
          "text": [
            "                                                                                                \r"
          ]
        },
        {
          "name": "stdout",
          "output_type": "stream",
          "text": [
            "  Validation (4-way 10-shot) - Loss: 1.1208, Accuracy: 0.7428\n",
            "No improvement in primary validation accuracy for 9 epochs.\n",
            "\n",
            "Epoch 16/100\n"
          ]
        },
        {
          "name": "stderr",
          "output_type": "stream",
          "text": [
            "                                                                                    \r"
          ]
        },
        {
          "name": "stdout",
          "output_type": "stream",
          "text": [
            "Train Loss: 0.0261, Train Accuracy: 0.9913\n"
          ]
        },
        {
          "name": "stderr",
          "output_type": "stream",
          "text": [
            "                                                                                               \r"
          ]
        },
        {
          "name": "stdout",
          "output_type": "stream",
          "text": [
            "Primary Validation Loss (5-shot): 1.4069, Primary Validation Accuracy (5-shot): 0.7101\n",
            "Performing multi-shot validation evaluation...\n"
          ]
        },
        {
          "name": "stderr",
          "output_type": "stream",
          "text": [
            "                                                                                               \r"
          ]
        },
        {
          "name": "stdout",
          "output_type": "stream",
          "text": [
            "  Validation (4-way 1-shot) - Loss: 4.7601, Accuracy: 0.5224\n"
          ]
        },
        {
          "name": "stderr",
          "output_type": "stream",
          "text": [
            "                                                                                               \r"
          ]
        },
        {
          "name": "stdout",
          "output_type": "stream",
          "text": [
            "  Validation (4-way 5-shot) - Loss: 1.4898, Accuracy: 0.7164\n"
          ]
        },
        {
          "name": "stderr",
          "output_type": "stream",
          "text": [
            "                                                                                                \r"
          ]
        },
        {
          "name": "stdout",
          "output_type": "stream",
          "text": [
            "  Validation (4-way 10-shot) - Loss: 1.2030, Accuracy: 0.7442\n",
            "No improvement in primary validation accuracy for 10 epochs.\n",
            "Early stopping triggered after 16 epochs.\n",
            "\n",
            "--- Training Finished ---\n",
            "Detailed training history plot saved to /home/ifihan/multi-dease-detection/results/training_history_detailed.png\n"
          ]
        },
        {
          "data": {
            "image/png": "[encoded data removed]",
            "text/plain": [
              "<Figure size 1800x1200 with 4 Axes>"
            ]
          },
          "metadata": {},
          "output_type": "display_data"
        }
      ],
      "source": [
        "# --- Training Loop ---\n",
        "print(\"\\n--- Starting Training ---\")\n",
        "best_val_accuracy = 0.0 # Based on primary_val_loader\n",
        "epochs_without_improvement = 0\n",
        "\n",
        "train_losses_history, train_accs_history = [], []\n",
        "primary_val_losses_history, primary_val_accs_history = [], []\n",
        "\n",
        "# History for multi-shot validation\n",
        "val_multi_shot_accs_history = {shot: [] for shot in VAL_EVAL_SHOTS}\n",
        "val_multi_shot_loss_history = {shot: [] for shot in VAL_EVAL_SHOTS} # Also track loss if desired\n",
        "\n",
        "for epoch in range(NUM_EPOCHS):\n",
        "    print(f\"\\nEpoch {epoch+1}/{NUM_EPOCHS}\")\n",
        "\n",
        "    # Train one epoch\n",
        "    train_loss, train_accuracy = train_epoch(model, train_loader, optimizer, criterion, device)\n",
        "    train_losses_history.append(train_loss)\n",
        "    train_accs_history.append(train_accuracy)\n",
        "    print(f\"Train Loss: {train_loss:.4f}, Train Accuracy: {train_accuracy:.4f}\")\n",
        "\n",
        "    # Evaluate on the primary validation set (e.g., 5-shot)\n",
        "    # This is used for early stopping and saving the best model\n",
        "    primary_val_loss, primary_val_accuracy = evaluate(model, primary_val_loader, criterion, device, \n",
        "                                                        description=f\"Validating ({VAL_NUM_SUPPORT}-shot)\")\n",
        "    primary_val_losses_history.append(primary_val_loss)\n",
        "    primary_val_accs_history.append(primary_val_accuracy)\n",
        "    print(f\"Primary Validation Loss ({VAL_NUM_SUPPORT}-shot): {primary_val_loss:.4f}, \"\n",
        "            f\"Primary Validation Accuracy ({VAL_NUM_SUPPORT}-shot): {primary_val_accuracy:.4f}\")\n",
        "\n",
        "    # --- Multi-shot validation evaluation for plotting ---\n",
        "    print(\"Performing multi-shot validation evaluation...\")\n",
        "    for shot in VAL_EVAL_SHOTS:\n",
        "        # Create a specific dataset and loader for this shot configuration\n",
        "        # Using 'test' split as per your setup for validation data\n",
        "        current_shot_val_dataset = FewShotDataset(\n",
        "            data_dir=data_dir,\n",
        "            split='test', # Using 'test' path for validation data\n",
        "            num_ways=VAL_NUM_WAYS,\n",
        "            num_support=shot, # Current shot being evaluated\n",
        "            num_query=VAL_NUM_QUERY,\n",
        "            num_episodes=VAL_EPISODES, # Can adjust if this becomes too slow\n",
        "            target_size=IMAGE_SIZE,\n",
        "            use_grayscale=USE_GRAYSCALE,\n",
        "            augment=False\n",
        "        )\n",
        "        if not current_shot_val_dataset.classes or len(current_shot_val_dataset.classes) < VAL_NUM_WAYS:\n",
        "            print(f\"  Skipping {shot}-shot validation: Insufficient classes/data in 'test' split for {VAL_NUM_WAYS}-way {shot}-shot.\")\n",
        "            val_multi_shot_accs_history[shot].append(0.0) # Append 0 or NaN if skipping\n",
        "            val_multi_shot_loss_history[shot].append(float('nan'))\n",
        "            continue\n",
        "\n",
        "        current_shot_val_loader = get_data_loader(current_shot_val_dataset, shuffle=False)\n",
        "        \n",
        "        shot_val_loss, shot_val_accuracy = evaluate(model, current_shot_val_loader, criterion, device,\n",
        "                                                    description=f\"Validating ({shot}-shot)\")\n",
        "        \n",
        "        val_multi_shot_accs_history[shot].append(shot_val_accuracy)\n",
        "        val_multi_shot_loss_history[shot].append(shot_val_loss)\n",
        "        print(f\"  Validation ({VAL_NUM_WAYS}-way {shot}-shot) - Loss: {shot_val_loss:.4f}, Accuracy: {shot_val_accuracy:.4f}\")\n",
        "\n",
        "    # Check for improvement using the primary validation accuracy\n",
        "    if primary_val_accuracy > best_val_accuracy:\n",
        "        print(f\"Primary Validation accuracy ({VAL_NUM_SUPPORT}-shot) improved ({best_val_accuracy:.4f} -> {primary_val_accuracy:.4f}). Saving model...\")\n",
        "        best_val_accuracy = primary_val_accuracy\n",
        "        torch.save(model.state_dict(), best_model_path)\n",
        "        epochs_without_improvement = 0\n",
        "    else:\n",
        "        epochs_without_improvement += 1\n",
        "        print(f\"No improvement in primary validation accuracy for {epochs_without_improvement} epochs.\")\n",
        "\n",
        "    # Early stopping\n",
        "    if epochs_without_improvement >= PATIENCE:\n",
        "        print(f\"Early stopping triggered after {epoch+1} epochs.\")\n",
        "        break\n",
        "\n",
        "print(\"\\n--- Training Finished ---\")\n",
        "\n",
        "# --- Plotting training history ---\n",
        "epochs_range = range(1, len(train_losses_history) + 1)\n",
        "\n",
        "# Plot 1: Loss History (Train vs. Primary Validation)\n",
        "plt.figure(figsize=(18, 12)) # Adjusted figure size for more plots\n",
        "\n",
        "plt.subplot(2, 2, 1)\n",
        "plt.plot(epochs_range, train_losses_history, label='Train Loss')\n",
        "plt.plot(epochs_range, primary_val_losses_history, label=f'Primary Val Loss ({VAL_NUM_SUPPORT}-shot)')\n",
        "plt.title('Loss History')\n",
        "plt.xlabel('Epoch')\n",
        "plt.ylabel('Loss')\n",
        "plt.legend()\n",
        "plt.grid(True)\n",
        "\n",
        "# Plot 2: Accuracy History (Train vs. Primary Validation)\n",
        "plt.subplot(2, 2, 2)\n",
        "plt.plot(epochs_range, train_accs_history, label='Train Accuracy')\n",
        "plt.plot(epochs_range, primary_val_accs_history, label=f'Primary Val Accuracy ({VAL_NUM_SUPPORT}-shot)')\n",
        "plt.title('Accuracy History (Primary)')\n",
        "plt.xlabel('Epoch')\n",
        "plt.ylabel('Accuracy')\n",
        "plt.legend()\n",
        "plt.grid(True)\n",
        "\n",
        "# Plot 3: Multi-Shot Validation Accuracy History\n",
        "plt.subplot(2, 2, 3)\n",
        "for shot in VAL_EVAL_SHOTS:\n",
        "    # Ensure the history list has the same length as epochs_range\n",
        "    # This handles cases where training might have stopped early\n",
        "    acc_history = val_multi_shot_accs_history[shot]\n",
        "    if len(acc_history) < len(epochs_range):\n",
        "        # Pad with the last known value or NaN if you prefer\n",
        "        acc_history.extend([acc_history[-1] if acc_history else 0.0] * (len(epochs_range) - len(acc_history)))\n",
        "\n",
        "    plt.plot(epochs_range, acc_history, label=f'Validation Acc ({shot}-shot)')\n",
        "plt.title(f'{VAL_NUM_WAYS}-Way Validation Accuracy for Different Shots')\n",
        "plt.xlabel('Epoch')\n",
        "plt.ylabel('Accuracy')\n",
        "plt.legend()\n",
        "plt.grid(True)\n",
        "\n",
        "# Plot 4: Multi-Shot Validation Loss History (Optional)\n",
        "plt.subplot(2, 2, 4)\n",
        "for shot in VAL_EVAL_SHOTS:\n",
        "    loss_history = val_multi_shot_loss_history[shot]\n",
        "    if len(loss_history) < len(epochs_range):\n",
        "        loss_history.extend([loss_history[-1] if loss_history else float('nan')] * (len(epochs_range) - len(loss_history)))\n",
        "\n",
        "    plt.plot(epochs_range, loss_history, label=f'Validation Loss ({shot}-shot)')\n",
        "plt.title(f'{VAL_NUM_WAYS}-Way Validation Loss for Different Shots')\n",
        "plt.xlabel('Epoch')\n",
        "plt.ylabel('Loss')\n",
        "plt.legend()\n",
        "plt.grid(True)\n",
        "\n",
        "plt.tight_layout()\n",
        "plot_path = os.path.join(output_dir, 'training_history_detailed.png')\n",
        "plt.savefig(plot_path)\n",
        "print(f\"Detailed training history plot saved to {plot_path}\")\n",
        "plt.show() # You had this, so keeping it."
      ]
    },
    {
      "cell_type": "code",
      "execution_count": 14,
      "metadata": {},
      "outputs": [
        {
          "name": "stdout",
          "output_type": "stream",
          "text": [
            "\n",
            "--- Evaluating on Test Set ---\n",
            "Loading best model from /home/ifihan/multi-dease-detection/results/best_protonet_model.pth\n",
            "\n",
            "--- Evaluating 4-way 1-shot on Test Set ---\n",
            "  Test dataset (1-shot): 4 classes found.\n"
          ]
        },
        {
          "name": "stderr",
          "output_type": "stream",
          "text": [
            "                                                                                           \r"
          ]
        },
        {
          "name": "stdout",
          "output_type": "stream",
          "text": [
            "  Test Results (1-shot):\n",
            "    Loss: 4.1782\n",
            "    Accuracy: 0.5700 ± 0.1070 (Variance: 0.011441)\n",
            "\n",
            "--- Evaluating 4-way 5-shot on Test Set ---\n",
            "  Test dataset (5-shot): 4 classes found.\n"
          ]
        },
        {
          "name": "stderr",
          "output_type": "stream",
          "text": [
            "                                                                                          \r"
          ]
        },
        {
          "name": "stdout",
          "output_type": "stream",
          "text": [
            "  Test Results (5-shot):\n",
            "    Loss: 0.8463\n",
            "    Accuracy: 0.7860 ± 0.0534 (Variance: 0.002856)\n",
            "\n",
            "--- Evaluating 4-way 10-shot on Test Set ---\n",
            "  Test dataset (10-shot): 4 classes found.\n"
          ]
        },
        {
          "name": "stderr",
          "output_type": "stream",
          "text": [
            "                                                                                           "
          ]
        },
        {
          "name": "stdout",
          "output_type": "stream",
          "text": [
            "  Test Results (10-shot):\n",
            "    Loss: 0.5561\n",
            "    Accuracy: 0.8307 ± 0.0423 (Variance: 0.001790)\n",
            "\n",
            "--- Final Test Summary ---\n",
            "  1-shot: Accuracy = 0.5700 ± 0.1070, Loss = 4.1782, Variance = 0.011441\n",
            "  5-shot: Accuracy = 0.7860 ± 0.0534, Loss = 0.8463, Variance = 0.002856\n",
            "  10-shot: Accuracy = 0.8307 ± 0.0423, Loss = 0.5561, Variance = 0.001790\n",
            "\n",
            "--- Evaluation Complete ---\n"
          ]
        },
        {
          "name": "stderr",
          "output_type": "stream",
          "text": [
            "\r"
          ]
        }
      ],
      "source": [
        "# --- Final Evaluation on Test Set ---\n",
        "print(\"\\n--- Evaluating on Test Set ---\")\n",
        "if os.path.exists(best_model_path):\n",
        "    print(f\"Loading best model from {best_model_path}\")\n",
        "    model.load_state_dict(torch.load(best_model_path, map_location=device))\n",
        "else:\n",
        "    print(\"Warning: No best model found. Evaluating with the last model state.\")\n",
        "\n",
        "test_results_summary = {}\n",
        "for num_shots_test in TEST_NUM_SHOTS:  # Renamed to avoid conflict with 'shot' in VAL_EVAL_SHOTS loop\n",
        "    print(f\"\\n--- Evaluating {TEST_NUM_WAYS}-way {num_shots_test}-shot on Test Set ---\")\n",
        "    test_dataset = FewShotDataset(\n",
        "        data_dir=data_dir,\n",
        "        split='test',\n",
        "        num_ways=TEST_NUM_WAYS,\n",
        "        num_support=num_shots_test,\n",
        "        num_query=TEST_NUM_QUERY,\n",
        "        num_episodes=TEST_EPISODES,\n",
        "        target_size=IMAGE_SIZE,\n",
        "        use_grayscale=USE_GRAYSCALE,\n",
        "        augment=False\n",
        "    )\n",
        "    if not test_dataset.classes or len(test_dataset.classes) < TEST_NUM_WAYS:\n",
        "        print(f\"  Skipping {num_shots_test}-shot test evaluation: Insufficient classes/data in 'test' split for {TEST_NUM_WAYS}-way {num_shots_test}-shot.\")\n",
        "        test_results_summary[f\"{num_shots_test}-shot\"] = {\"loss\": float('nan'), \"accuracy\": 0.0, \"variance\": 0.0, \"std\": 0.0}\n",
        "        continue\n",
        "\n",
        "    test_loader = get_data_loader(test_dataset, shuffle=False)\n",
        "    print(f\"  Test dataset ({num_shots_test}-shot): {len(test_dataset.classes)} classes found.\")\n",
        "\n",
        "    test_loss, test_accuracy, test_variance, test_std = evaluate_with_std(\n",
        "        model, test_loader, criterion, device, description=f\"Testing {num_shots_test}-shot\"\n",
        "    )\n",
        "    print(f\"  Test Results ({num_shots_test}-shot):\")\n",
        "    print(f\"    Loss: {test_loss:.4f}\")\n",
        "    print(f\"    Accuracy: {test_accuracy:.4f} ± {test_std:.4f} (Variance: {test_variance:.6f})\")\n",
        "    test_results_summary[f\"{num_shots_test}-shot\"] = {\n",
        "        \"loss\": test_loss,\n",
        "        \"accuracy\": test_accuracy,\n",
        "        \"variance\": test_variance,\n",
        "        \"std\": test_std\n",
        "    }\n",
        "\n",
        "print(\"\\n--- Final Test Summary ---\")\n",
        "for shot_setting, metrics in test_results_summary.items():\n",
        "    print(f\"  {shot_setting}: Accuracy = {metrics['accuracy']:.4f} ± {metrics['std']:.4f}, Loss = {metrics['loss']:.4f}, Variance = {metrics['variance']:.6f}\")\n",
        "\n",
        "print(\"\\n--- Evaluation Complete ---\")"
      ]
    }
  ],
  "metadata": {
    "accelerator": "GPU",
    "colab": {
      "collapsed_sections": [
        "FC1zPK9NamYN",
        "ZJ1-_8tG8YBt",
        "dDYFGE-JsMuT"
      ],
      "gpuType": "T4",
      "provenance": [],
      "toc_visible": true
    },
    "kernelspec": {
      "display_name": "base",
      "language": "python",
      "name": "python3"
    },
    "language_info": {
      "codemirror_mode": {
        "name": "ipython",
        "version": 3
      },
      "file_extension": ".py",
      "mimetype": "text/x-python",
      "name": "python",
      "nbconvert_exporter": "python",
      "pygments_lexer": "ipython3",
      "version": "3.10.15"
    }
  },
  "nbformat": 4,
  "nbformat_minor": 0
}
